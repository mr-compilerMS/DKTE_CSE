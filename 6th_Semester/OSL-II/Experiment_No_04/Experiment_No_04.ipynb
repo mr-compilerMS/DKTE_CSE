{
  "cells": [
    {
      "cell_type": "code",
      "execution_count": 3,
      "metadata": {},
      "outputs": [],
      "source": [
        "import pandas as pd\n",
        "import numpy as np"
      ]
    },
    {
      "cell_type": "code",
      "execution_count": 4,
      "metadata": {},
      "outputs": [
        {
          "data": {
            "text/html": [
              "<div>\n",
              "<style scoped>\n",
              "    .dataframe tbody tr th:only-of-type {\n",
              "        vertical-align: middle;\n",
              "    }\n",
              "\n",
              "    .dataframe tbody tr th {\n",
              "        vertical-align: top;\n",
              "    }\n",
              "\n",
              "    .dataframe thead th {\n",
              "        text-align: right;\n",
              "    }\n",
              "</style>\n",
              "<table border=\"1\" class=\"dataframe\">\n",
              "  <thead>\n",
              "    <tr style=\"text-align: right;\">\n",
              "      <th></th>\n",
              "      <th>name</th>\n",
              "      <th>review</th>\n",
              "      <th>rating</th>\n",
              "    </tr>\n",
              "  </thead>\n",
              "  <tbody>\n",
              "    <tr>\n",
              "      <th>0</th>\n",
              "      <td>Planetwise Flannel Wipes</td>\n",
              "      <td>These flannel wipes are OK, but in my opinion ...</td>\n",
              "      <td>3</td>\n",
              "    </tr>\n",
              "    <tr>\n",
              "      <th>1</th>\n",
              "      <td>Planetwise Wipe Pouch</td>\n",
              "      <td>it came early and was not disappointed. i love...</td>\n",
              "      <td>5</td>\n",
              "    </tr>\n",
              "    <tr>\n",
              "      <th>2</th>\n",
              "      <td>Annas Dream Full Quilt with 2 Shams</td>\n",
              "      <td>Very soft and comfortable and warmer than it l...</td>\n",
              "      <td>5</td>\n",
              "    </tr>\n",
              "    <tr>\n",
              "      <th>3</th>\n",
              "      <td>Stop Pacifier Sucking without tears with Thumb...</td>\n",
              "      <td>This is a product well worth the purchase.  I ...</td>\n",
              "      <td>5</td>\n",
              "    </tr>\n",
              "    <tr>\n",
              "      <th>4</th>\n",
              "      <td>Stop Pacifier Sucking without tears with Thumb...</td>\n",
              "      <td>All of my kids have cried non-stop when I trie...</td>\n",
              "      <td>5</td>\n",
              "    </tr>\n",
              "  </tbody>\n",
              "</table>\n",
              "</div>"
            ],
            "text/plain": [
              "                                                name  \\\n",
              "0                           Planetwise Flannel Wipes   \n",
              "1                              Planetwise Wipe Pouch   \n",
              "2                Annas Dream Full Quilt with 2 Shams   \n",
              "3  Stop Pacifier Sucking without tears with Thumb...   \n",
              "4  Stop Pacifier Sucking without tears with Thumb...   \n",
              "\n",
              "                                              review  rating  \n",
              "0  These flannel wipes are OK, but in my opinion ...       3  \n",
              "1  it came early and was not disappointed. i love...       5  \n",
              "2  Very soft and comfortable and warmer than it l...       5  \n",
              "3  This is a product well worth the purchase.  I ...       5  \n",
              "4  All of my kids have cried non-stop when I trie...       5  "
            ]
          },
          "execution_count": 4,
          "metadata": {},
          "output_type": "execute_result"
        }
      ],
      "source": [
        "df=pd.read_csv(\"amazon_baby.csv\")\n",
        "df.head(5)"
      ]
    },
    {
      "cell_type": "code",
      "execution_count": 5,
      "metadata": {},
      "outputs": [
        {
          "data": {
            "text/plain": [
              "1499"
            ]
          },
          "execution_count": 5,
          "metadata": {},
          "output_type": "execute_result"
        }
      ],
      "source": [
        "len(df)"
      ]
    },
    {
      "cell_type": "code",
      "execution_count": 6,
      "metadata": {},
      "outputs": [
        {
          "data": {
            "text/plain": [
              "Baby Trend Diaper Champ                                                                                                          333\n",
              "Munchkin Mozart Magic Cube                                                                                                       191\n",
              "Safety 1st Deluxe 4-in-1 Bath Station                                                                                            154\n",
              "Summer Infant Ultimate Crib Sheet, 52&quot; x 28&quot;                                                                            62\n",
              "Northstate Superyard Playgate Light Gray                                                                                          55\n",
              "                                                                                                                                ... \n",
              "Holy Family Baby Jesus and Star Nativity Christmas Tree Ornament                                                                   1\n",
              "IKEA DUKTIG 15-piece breakfast set                                                                                                 1\n",
              "Semanario (7) Little Girls 14k Gold Overlay Bangle Bracelets for Your Little Princess Sizes 1 - 4 (Size 2 - ages 9-24 Months)      1\n",
              "Musical Christmas Nativity Scene Angel with Baby Jesus in a Rustic Barkwood Resin Manger 8&quot; Tall                              1\n",
              "Baby Monitor - Direct Link Privacy Monitor                                                                                         1\n",
              "Name: name, Length: 130, dtype: int64"
            ]
          },
          "execution_count": 6,
          "metadata": {},
          "output_type": "execute_result"
        }
      ],
      "source": [
        "df['name'].value_counts()"
      ]
    },
    {
      "cell_type": "code",
      "execution_count": 7,
      "metadata": {},
      "outputs": [],
      "source": [
        "# remove products having less reviews\n",
        "df=df[df.groupby('name')[\"name\"].transform('size')>20]"
      ]
    },
    {
      "cell_type": "code",
      "execution_count": 8,
      "metadata": {},
      "outputs": [
        {
          "data": {
            "text/plain": [
              "990"
            ]
          },
          "execution_count": 8,
          "metadata": {},
          "output_type": "execute_result"
        }
      ],
      "source": [
        "len(df)"
      ]
    },
    {
      "cell_type": "code",
      "execution_count": 9,
      "metadata": {},
      "outputs": [
        {
          "data": {
            "text/html": [
              "<div>\n",
              "<style scoped>\n",
              "    .dataframe tbody tr th:only-of-type {\n",
              "        vertical-align: middle;\n",
              "    }\n",
              "\n",
              "    .dataframe tbody tr th {\n",
              "        vertical-align: top;\n",
              "    }\n",
              "\n",
              "    .dataframe thead th {\n",
              "        text-align: right;\n",
              "    }\n",
              "</style>\n",
              "<table border=\"1\" class=\"dataframe\">\n",
              "  <thead>\n",
              "    <tr style=\"text-align: right;\">\n",
              "      <th></th>\n",
              "      <th>name</th>\n",
              "      <th>review</th>\n",
              "      <th>rating</th>\n",
              "    </tr>\n",
              "  </thead>\n",
              "  <tbody>\n",
              "    <tr>\n",
              "      <th>153</th>\n",
              "      <td>Fisher Price Nesting Action Vehicles</td>\n",
              "      <td>We bought these for our son when he turned two...</td>\n",
              "      <td>5</td>\n",
              "    </tr>\n",
              "    <tr>\n",
              "      <th>154</th>\n",
              "      <td>Fisher Price Nesting Action Vehicles</td>\n",
              "      <td>My son loves stacking cups, so a friend recomm...</td>\n",
              "      <td>5</td>\n",
              "    </tr>\n",
              "    <tr>\n",
              "      <th>155</th>\n",
              "      <td>Fisher Price Nesting Action Vehicles</td>\n",
              "      <td>My son Cameron just loves these great little s...</td>\n",
              "      <td>5</td>\n",
              "    </tr>\n",
              "    <tr>\n",
              "      <th>156</th>\n",
              "      <td>Fisher Price Nesting Action Vehicles</td>\n",
              "      <td>My one year old son received these as a birthd...</td>\n",
              "      <td>5</td>\n",
              "    </tr>\n",
              "    <tr>\n",
              "      <th>157</th>\n",
              "      <td>Fisher Price Nesting Action Vehicles</td>\n",
              "      <td>I purchased this toy for my great grandson\\'s ...</td>\n",
              "      <td>5</td>\n",
              "    </tr>\n",
              "    <tr>\n",
              "      <th>...</th>\n",
              "      <td>...</td>\n",
              "      <td>...</td>\n",
              "      <td>...</td>\n",
              "    </tr>\n",
              "    <tr>\n",
              "      <th>1370</th>\n",
              "      <td>Munchkin Mozart Magic Cube</td>\n",
              "      <td>This toy is great! 1 year old Son got it as a ...</td>\n",
              "      <td>5</td>\n",
              "    </tr>\n",
              "    <tr>\n",
              "      <th>1371</th>\n",
              "      <td>Munchkin Mozart Magic Cube</td>\n",
              "      <td>I purchased this for my special needs grandson...</td>\n",
              "      <td>5</td>\n",
              "    </tr>\n",
              "    <tr>\n",
              "      <th>1372</th>\n",
              "      <td>Munchkin Mozart Magic Cube</td>\n",
              "      <td>Yep, we\\'re on our third grandchild, second Mo...</td>\n",
              "      <td>5</td>\n",
              "    </tr>\n",
              "    <tr>\n",
              "      <th>1373</th>\n",
              "      <td>Munchkin Mozart Magic Cube</td>\n",
              "      <td>NaN</td>\n",
              "      <td>5</td>\n",
              "    </tr>\n",
              "    <tr>\n",
              "      <th>1374</th>\n",
              "      <td>Munchkin Mozart Magic Cube</td>\n",
              "      <td>My daughter got this for Christmas when she wa...</td>\n",
              "      <td>2</td>\n",
              "    </tr>\n",
              "  </tbody>\n",
              "</table>\n",
              "<p>900 rows × 3 columns</p>\n",
              "</div>"
            ],
            "text/plain": [
              "                                      name  \\\n",
              "153   Fisher Price Nesting Action Vehicles   \n",
              "154   Fisher Price Nesting Action Vehicles   \n",
              "155   Fisher Price Nesting Action Vehicles   \n",
              "156   Fisher Price Nesting Action Vehicles   \n",
              "157   Fisher Price Nesting Action Vehicles   \n",
              "...                                    ...   \n",
              "1370            Munchkin Mozart Magic Cube   \n",
              "1371            Munchkin Mozart Magic Cube   \n",
              "1372            Munchkin Mozart Magic Cube   \n",
              "1373            Munchkin Mozart Magic Cube   \n",
              "1374            Munchkin Mozart Magic Cube   \n",
              "\n",
              "                                                 review  rating  \n",
              "153   We bought these for our son when he turned two...       5  \n",
              "154   My son loves stacking cups, so a friend recomm...       5  \n",
              "155   My son Cameron just loves these great little s...       5  \n",
              "156   My one year old son received these as a birthd...       5  \n",
              "157   I purchased this toy for my great grandson\\'s ...       5  \n",
              "...                                                 ...     ...  \n",
              "1370  This toy is great! 1 year old Son got it as a ...       5  \n",
              "1371  I purchased this for my special needs grandson...       5  \n",
              "1372  Yep, we\\'re on our third grandchild, second Mo...       5  \n",
              "1373                                                NaN       5  \n",
              "1374  My daughter got this for Christmas when she wa...       2  \n",
              "\n",
              "[900 rows x 3 columns]"
            ]
          },
          "execution_count": 9,
          "metadata": {},
          "output_type": "execute_result"
        }
      ],
      "source": [
        "df=df.head(900)\n",
        "df"
      ]
    },
    {
      "cell_type": "code",
      "execution_count": 10,
      "metadata": {},
      "outputs": [],
      "source": [
        "df['review']=df['review'].astype(str)"
      ]
    },
    {
      "cell_type": "code",
      "execution_count": 11,
      "metadata": {},
      "outputs": [
        {
          "data": {
            "text/plain": [
              "900"
            ]
          },
          "execution_count": 11,
          "metadata": {},
          "output_type": "execute_result"
        }
      ],
      "source": [
        "len(df)"
      ]
    },
    {
      "cell_type": "code",
      "execution_count": 12,
      "metadata": {},
      "outputs": [],
      "source": [
        "def clean(txt):\n",
        "    txt = txt.replace(\"()\", \"\")\n",
        "    txt = txt.replace('(<a).*(>).*()', '')\n",
        "    txt = txt.replace('(&amp)', '')\n",
        "    txt = txt.replace('(&gt)', '')\n",
        "    txt = txt.replace('(&lt)', '')\n",
        "    txt = txt.replace('(\\xa0)', ' ')  \n",
        "    txt = txt.replace('(\\n)', ' ')\n",
        "    txt = txt.replace('(\\r)', ' ')\n",
        "    txt = txt.replace('(\\t)', ' ')\n",
        "    return txt\n"
      ]
    },
    {
      "cell_type": "code",
      "execution_count": 13,
      "metadata": {},
      "outputs": [],
      "source": [
        "df['review']=df['review'].apply(clean)"
      ]
    },
    {
      "cell_type": "code",
      "execution_count": 14,
      "metadata": {},
      "outputs": [],
      "source": [
        "df['review1'] = df['review'].apply(lambda x: \" \".join(x.lower() for x in x.split()))"
      ]
    },
    {
      "cell_type": "code",
      "execution_count": 15,
      "metadata": {},
      "outputs": [
        {
          "data": {
            "text/plain": [
              "153    we bought these for our son when he turned two...\n",
              "154    my son loves stacking cups, so a friend recomm...\n",
              "155    my son cameron just loves these great little s...\n",
              "156    my one year old son received these as a birthd...\n",
              "157    i purchased this toy for my great grandson\\'s ...\n",
              "Name: review1, dtype: object"
            ]
          },
          "execution_count": 15,
          "metadata": {},
          "output_type": "execute_result"
        }
      ],
      "source": [
        "df['review1'].head(5)"
      ]
    },
    {
      "cell_type": "code",
      "execution_count": 16,
      "metadata": {},
      "outputs": [
        {
          "name": "stderr",
          "output_type": "stream",
          "text": [
            "[nltk_data] Error loading stopwords: <urlopen error [Errno 11001]\n",
            "[nltk_data]     getaddrinfo failed>\n"
          ]
        },
        {
          "data": {
            "text/plain": [
              "153    bought son turned two. seen playmate\\'s home l...\n",
              "154    son loves stacking cups, friend recommended to...\n",
              "155    son cameron loves great little stacking cars! ...\n",
              "156    one year old son received birthday gift. loves...\n",
              "157    purchased toy great grandson\\'s first christma...\n",
              "Name: review1, dtype: object"
            ]
          },
          "execution_count": 16,
          "metadata": {},
          "output_type": "execute_result"
        }
      ],
      "source": [
        "import nltk\n",
        "nltk.download('stopwords')\n",
        "from nltk.corpus import stopwords \n",
        "stop = stopwords.words('english')\n",
        "df['review1'] = df['review1'].apply(lambda x: \" \".join(x for x in x.split() if x not in stop))\n",
        "df['review1'].head()"
      ]
    },
    {
      "cell_type": "code",
      "execution_count": 17,
      "metadata": {},
      "outputs": [],
      "source": [
        "from nltk.stem import PorterStemmer\n",
        "st = PorterStemmer()\n",
        "df['review1'] = df['review'].apply(lambda x: \" \".join([st.stem(word) for word in x.split()]))"
      ]
    },
    {
      "cell_type": "code",
      "execution_count": 18,
      "metadata": {},
      "outputs": [
        {
          "data": {
            "text/plain": [
              "153    we bought these for our son when he turn two. ...\n",
              "154    my son love stack cups, so a friend recommend ...\n",
              "155    my son cameron just love these great littl sta...\n",
              "156    my one year old son receiv these as a birthday...\n",
              "157    i purchas thi toy for my great grandson\\' firs...\n",
              "Name: review1, dtype: object"
            ]
          },
          "execution_count": 18,
          "metadata": {},
          "output_type": "execute_result"
        }
      ],
      "source": [
        "df['review1'].head(5)"
      ]
    },
    {
      "cell_type": "code",
      "execution_count": 19,
      "metadata": {},
      "outputs": [],
      "source": [
        "df.to_csv('amazon_baby_eda.csv')"
      ]
    }
  ],
  "metadata": {
    "kernelspec": {
      "display_name": "Python 3",
      "language": "python",
      "name": "python3"
    },
    "language_info": {
      "codemirror_mode": {
        "name": "ipython",
        "version": 3
      },
      "file_extension": ".py",
      "mimetype": "text/x-python",
      "name": "python",
      "nbconvert_exporter": "python",
      "pygments_lexer": "ipython3",
      "version": "3.9.7"
    }
  },
  "nbformat": 4,
  "nbformat_minor": 2
}
