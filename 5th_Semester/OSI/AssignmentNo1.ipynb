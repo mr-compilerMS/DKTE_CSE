{
 "metadata": {
  "language_info": {
   "codemirror_mode": {
    "name": "ipython",
    "version": 3
   },
   "file_extension": ".py",
   "mimetype": "text/x-python",
   "name": "python",
   "nbconvert_exporter": "python",
   "pygments_lexer": "ipython3",
   "version": "3.7.0"
  },
  "orig_nbformat": 2,
  "kernelspec": {
   "name": "python3",
   "display_name": "Python 3.7.0 32-bit",
   "metadata": {
    "interpreter": {
     "hash": "a1f030392560b1ea6494f38a54b744252cd7d3e4b8dbec40eca7279516abf9d6"
    }
   }
  }
 },
 "nbformat": 4,
 "nbformat_minor": 2,
 "cells": [
  {
   "source": [
    "### Assignment No 01\n",
    "# List"
   ],
   "cell_type": "markdown",
   "metadata": {}
  },
  {
   "source": [
    "Declaring List"
   ],
   "cell_type": "markdown",
   "metadata": {}
  },
  {
   "cell_type": "code",
   "execution_count": 85,
   "metadata": {},
   "outputs": [],
   "source": [
    "l1=list()       #using constructor\n",
    "l2=['Java','Python','JavaScript','Go','Ruby','PHP','C#']\n",
    "l3=[1,2,3,4,5,6,7,8,9]"
   ]
  },
  {
   "cell_type": "code",
   "execution_count": 86,
   "metadata": {},
   "outputs": [
    {
     "output_type": "stream",
     "name": "stdout",
     "text": [
      "l1= [] \nl2= ['Java', 'Python', 'JavaScript', 'Go', 'Ruby', 'PHP', 'C#'] \nl3= [1, 2, 3, 4, 5, 6, 7, 8, 9]\n"
     ]
    }
   ],
   "source": [
    "print('l1=',l1,'\\nl2=',l2,'\\nl3=',l3)"
   ]
  },
  {
   "source": [
    "Accessing Values"
   ],
   "cell_type": "markdown",
   "metadata": {}
  },
  {
   "cell_type": "code",
   "execution_count": 87,
   "metadata": {},
   "outputs": [
    {
     "output_type": "stream",
     "name": "stdout",
     "text": [
      "l2[0]= Java\nl2[2:4]= ['JavaScript', 'Go']\nl3[4] 5\nl3[-1]= 9\n"
     ]
    }
   ],
   "source": [
    "print('l2[0]=',l2[0])\n",
    "print('l2[2:4]=',l2[2:4])\n",
    "print('l3[4]',l3[4])\n",
    "print('l3[-1]=',l3[-1])"
   ]
  },
  {
   "source": [
    "Updating List"
   ],
   "cell_type": "markdown",
   "metadata": {}
  },
  {
   "cell_type": "code",
   "execution_count": 88,
   "metadata": {},
   "outputs": [
    {
     "output_type": "stream",
     "name": "stdout",
     "text": [
      "Before Update:  ['Java', 'Python', 'JavaScript', 'Go', 'Ruby', 'PHP', 'C#']\n"
     ]
    }
   ],
   "source": [
    "print('Before Update: ',l2)"
   ]
  },
  {
   "cell_type": "code",
   "execution_count": 89,
   "metadata": {},
   "outputs": [
    {
     "output_type": "stream",
     "name": "stdout",
     "text": [
      "After Update:  ['Java', 'Python', 'JS', 'Go', 'Ruby', 'PHP', 'CSharp']\n"
     ]
    }
   ],
   "source": [
    "l2[2]='JS'\n",
    "l2[-1]='CSharp'\n",
    "print('After Update: ',l2)"
   ]
  },
  {
   "source": [
    "Deleting list elements :"
   ],
   "cell_type": "markdown",
   "metadata": {}
  },
  {
   "cell_type": "code",
   "execution_count": 90,
   "metadata": {},
   "outputs": [
    {
     "output_type": "execute_result",
     "data": {
      "text/plain": [
       "\"Before Delete : ['Java', 'Python', 'JS', 'Go', 'Ruby', 'PHP', 'CSharp']\""
      ]
     },
     "metadata": {},
     "execution_count": 90
    }
   ],
   "source": [
    "'Before Delete : ' + str(l2)"
   ]
  },
  {
   "cell_type": "code",
   "execution_count": 91,
   "metadata": {},
   "outputs": [
    {
     "output_type": "execute_result",
     "data": {
      "text/plain": [
       "\"After Deleting item at index 5 :['Java', 'Python', 'JS', 'Go', 'Ruby', 'CSharp']\""
      ]
     },
     "metadata": {},
     "execution_count": 91
    }
   ],
   "source": [
    "del l2[5]\r\n",
    "'After Deleting item at index 5 :'+str(l2)"
   ]
  },
  {
   "source": [
    "### Basic List Operations"
   ],
   "cell_type": "markdown",
   "metadata": {}
  },
  {
   "cell_type": "code",
   "execution_count": 92,
   "metadata": {},
   "outputs": [
    {
     "output_type": "stream",
     "name": "stdout",
     "text": [
      "['Java', 'Python', 'JS', 'Go', 'Ruby', 'PHP', 'CSharp']\n['😐', '😑', '😶', '🙄', '😮', '😴']\n"
     ]
    }
   ],
   "source": [
    "l1=['Java', 'Python', 'JS', 'Go', 'Ruby', 'PHP', 'CSharp']\n",
    "l2=['😐','😑','😶','🙄','😮','😴']\n",
    "print(l1,l2,sep='\\n')"
   ]
  },
  {
   "source": [
    "1. Length"
   ],
   "cell_type": "markdown",
   "metadata": {}
  },
  {
   "cell_type": "code",
   "execution_count": 93,
   "metadata": {},
   "outputs": [
    {
     "output_type": "stream",
     "name": "stdout",
     "text": [
      "length of l1 = 7\n"
     ]
    }
   ],
   "source": [
    "print('length of l1 =',len(l1))"
   ]
  },
  {
   "source": [
    "2. Concatenation"
   ],
   "cell_type": "markdown",
   "metadata": {}
  },
  {
   "cell_type": "code",
   "execution_count": 94,
   "metadata": {},
   "outputs": [
    {
     "output_type": "stream",
     "name": "stdout",
     "text": [
      "['Java', 'Python', 'JS', 'Go', 'Ruby', 'PHP', 'CSharp', '😐', '😑', '😶', '🙄', '😮', '😴']\n"
     ]
    }
   ],
   "source": [
    "print(l1+l2)"
   ]
  },
  {
   "source": [
    "3. Repetation"
   ],
   "cell_type": "markdown",
   "metadata": {}
  },
  {
   "cell_type": "code",
   "execution_count": 95,
   "metadata": {},
   "outputs": [
    {
     "output_type": "execute_result",
     "data": {
      "text/plain": [
       "['😐', '😑', '😶', '🙄', '😮', '😴', '😐', '😑', '😶', '🙄', '😮', '😴']"
      ]
     },
     "metadata": {},
     "execution_count": 95
    }
   ],
   "source": [
    "l2*2"
   ]
  },
  {
   "source": [
    "4. Membership"
   ],
   "cell_type": "markdown",
   "metadata": {}
  },
  {
   "cell_type": "code",
   "execution_count": 96,
   "metadata": {},
   "outputs": [
    {
     "output_type": "stream",
     "name": "stdout",
     "text": [
      "Ruby exists in l1 =  True\n"
     ]
    }
   ],
   "source": [
    "print('Ruby exists in l1 = ','Ruby' in l1)"
   ]
  },
  {
   "source": [
    "5. Iterating"
   ],
   "cell_type": "markdown",
   "metadata": {}
  },
  {
   "cell_type": "code",
   "execution_count": 97,
   "metadata": {},
   "outputs": [
    {
     "output_type": "stream",
     "name": "stdout",
     "text": [
      "Java\tPython\tJS\tGo\tRuby\tPHP\tCSharp\t"
     ]
    }
   ],
   "source": [
    "for i in l1:print(i,end='\\t')"
   ]
  },
  {
   "source": [
    "6. Indexing, Slicing and Matrixes"
   ],
   "cell_type": "markdown",
   "metadata": {}
  },
  {
   "cell_type": "code",
   "execution_count": 98,
   "metadata": {},
   "outputs": [
    {
     "output_type": "stream",
     "name": "stdout",
     "text": [
      "l1[2] : JS\nl1[-2] : PHP\nl1[1:] : ['Python', 'JS', 'Go', 'Ruby', 'PHP', 'CSharp']\nl1[2:] : ['JS', 'Go', 'Ruby', 'PHP', 'CSharp']\nl1[1:3] : ['Python', 'JS']\nl1[0] : Java\n"
     ]
    }
   ],
   "source": [
    "print(\"l1[2] :\",l1[2])\n",
    "print(\"l1[-2] :\",l1[-2])\n",
    "print(\"l1[1:] :\",l1[1:])\n",
    "print(\"l1[2:] :\",l1[2:])\n",
    "print(\"l1[1:3] :\",l1[1:3])\n",
    "print(\"l1[0] :\",l1[0])"
   ]
  },
  {
   "source": [
    "### Built In Functions"
   ],
   "cell_type": "markdown",
   "metadata": {}
  },
  {
   "cell_type": "code",
   "execution_count": 99,
   "metadata": {},
   "outputs": [],
   "source": [
    "l1=['A','B','C','D','E']\n",
    "l2=[10,30,20,50,80,60]"
   ]
  },
  {
   "source": [
    "1. len()"
   ],
   "cell_type": "markdown",
   "metadata": {}
  },
  {
   "cell_type": "code",
   "execution_count": 100,
   "metadata": {},
   "outputs": [
    {
     "output_type": "stream",
     "name": "stdout",
     "text": [
      "Length of l1 : 5\n"
     ]
    }
   ],
   "source": [
    "print('Length of l1 :',len(l1))"
   ]
  },
  {
   "source": [
    "2. max()"
   ],
   "cell_type": "markdown",
   "metadata": {}
  },
  {
   "cell_type": "code",
   "execution_count": 101,
   "metadata": {},
   "outputs": [
    {
     "output_type": "stream",
     "name": "stdout",
     "text": [
      "Max from l2 :  80\n"
     ]
    }
   ],
   "source": [
    "print('Max from l2 : ',max(l2))"
   ]
  },
  {
   "source": [
    "3. min()"
   ],
   "cell_type": "markdown",
   "metadata": {}
  },
  {
   "cell_type": "code",
   "execution_count": 102,
   "metadata": {},
   "outputs": [
    {
     "output_type": "stream",
     "name": "stdout",
     "text": [
      "Min from l2 :  10\n"
     ]
    }
   ],
   "source": [
    "print('Min from l2 : ',min(l2))"
   ]
  },
  {
   "source": [
    "4. append()"
   ],
   "cell_type": "markdown",
   "metadata": {}
  },
  {
   "cell_type": "code",
   "execution_count": 103,
   "metadata": {},
   "outputs": [
    {
     "output_type": "execute_result",
     "data": {
      "text/plain": [
       "['A', 'B', 'C', 'D', 'E', 'F']"
      ]
     },
     "metadata": {},
     "execution_count": 103
    }
   ],
   "source": [
    "l1.append('F')\n",
    "l1"
   ]
  },
  {
   "source": [
    "4. count()"
   ],
   "cell_type": "markdown",
   "metadata": {}
  },
  {
   "cell_type": "code",
   "execution_count": 104,
   "metadata": {},
   "outputs": [
    {
     "output_type": "execute_result",
     "data": {
      "text/plain": [
       "'Count of A : 1'"
      ]
     },
     "metadata": {},
     "execution_count": 104
    }
   ],
   "source": [
    "'Count of A : '+str(l1.count('A'))"
   ]
  },
  {
   "source": [
    "5. extend()"
   ],
   "cell_type": "markdown",
   "metadata": {}
  },
  {
   "cell_type": "code",
   "execution_count": 105,
   "metadata": {},
   "outputs": [
    {
     "output_type": "stream",
     "name": "stdout",
     "text": [
      "Before Extend :  ['A', 'B', 'C', 'D', 'E', 'F']\nAfter Extend :  ['A', 'B', 'C', 'D', 'E', 'F', 'I', 'J']\n"
     ]
    }
   ],
   "source": [
    "print('Before Extend : ',l1)\n",
    "l1.extend(['I','J'])\n",
    "print('After Extend : ',l1)"
   ]
  },
  {
   "source": [
    "6. index()"
   ],
   "cell_type": "markdown",
   "metadata": {}
  },
  {
   "cell_type": "code",
   "execution_count": 106,
   "metadata": {},
   "outputs": [
    {
     "output_type": "stream",
     "name": "stdout",
     "text": [
      "index of B :  1\n"
     ]
    }
   ],
   "source": [
    "print('index of B : ',l1.index('B'))"
   ]
  },
  {
   "source": [
    "7. insert()"
   ],
   "cell_type": "markdown",
   "metadata": {}
  },
  {
   "cell_type": "code",
   "execution_count": 107,
   "metadata": {},
   "outputs": [
    {
     "output_type": "stream",
     "name": "stdout",
     "text": [
      "After inserting H at index 6 :  ['A', 'B', 'C', 'D', 'E', 'F', 'H', 'I', 'J']\n"
     ]
    }
   ],
   "source": [
    "l1.insert(6,'H')\n",
    "print('After inserting H at index 6 : ',l1)"
   ]
  },
  {
   "source": [
    "8. pop()"
   ],
   "cell_type": "markdown",
   "metadata": {}
  },
  {
   "cell_type": "code",
   "execution_count": 108,
   "metadata": {},
   "outputs": [
    {
     "output_type": "execute_result",
     "data": {
      "text/plain": [
       "'J'"
      ]
     },
     "metadata": {},
     "execution_count": 108
    }
   ],
   "source": [
    "l1.pop()"
   ]
  },
  {
   "source": [
    "9. remove()"
   ],
   "cell_type": "markdown",
   "metadata": {}
  },
  {
   "cell_type": "code",
   "execution_count": 109,
   "metadata": {},
   "outputs": [],
   "source": [
    "l1.remove('I')"
   ]
  },
  {
   "source": [
    "10. reverse()"
   ],
   "cell_type": "markdown",
   "metadata": {}
  },
  {
   "cell_type": "code",
   "execution_count": 110,
   "metadata": {},
   "outputs": [
    {
     "output_type": "stream",
     "name": "stdout",
     "text": [
      "After reversing :  ['H', 'F', 'E', 'D', 'C', 'B', 'A']\n"
     ]
    }
   ],
   "source": [
    "l1.reverse()\n",
    "print('After reversing : ',l1)"
   ]
  },
  {
   "source": [
    "11. sort()"
   ],
   "cell_type": "markdown",
   "metadata": {}
  },
  {
   "cell_type": "code",
   "execution_count": 111,
   "metadata": {},
   "outputs": [
    {
     "output_type": "stream",
     "name": "stdout",
     "text": [
      "After sorting : ['A', 'B', 'C', 'D', 'E', 'F', 'H']\n"
     ]
    }
   ],
   "source": [
    "l1.sort()\n",
    "print('After sorting :',l1)"
   ]
  },
  {
   "cell_type": "code",
   "execution_count": null,
   "metadata": {},
   "outputs": [],
   "source": []
  }
 ]
}