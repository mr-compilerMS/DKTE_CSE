{
 "metadata": {
  "language_info": {
   "codemirror_mode": {
    "name": "ipython",
    "version": 3
   },
   "file_extension": ".py",
   "mimetype": "text/x-python",
   "name": "python",
   "nbconvert_exporter": "python",
   "pygments_lexer": "ipython3",
   "version": "3.7.0"
  },
  "orig_nbformat": 2,
  "kernelspec": {
   "name": "python3",
   "display_name": "Python 3.7.0 32-bit",
   "metadata": {
    "interpreter": {
     "hash": "a1f030392560b1ea6494f38a54b744252cd7d3e4b8dbec40eca7279516abf9d6"
    }
   }
  }
 },
 "nbformat": 4,
 "nbformat_minor": 2,
 "cells": [
  {
   "source": [
    "# Assignment No 2 (20UCS304)\n",
    "## Tuples"
   ],
   "cell_type": "markdown",
   "metadata": {}
  },
  {
   "source": [
    "* Creating Tuple "
   ],
   "cell_type": "markdown",
   "metadata": {}
  },
  {
   "source": [
    "t1=(1,2,3,1,3)\n",
    "t2=()        #empty tuple\n",
    "t3=tuple([1,2])   #using constructor\n",
    "print(t1)\n",
    "print(t2)\n",
    "print(t3)"
   ],
   "cell_type": "code",
   "metadata": {},
   "execution_count": 2,
   "outputs": [
    {
     "output_type": "stream",
     "name": "stdout",
     "text": [
      "(1, 2, 3, 1, 3)\n()\n(1, 2)\n"
     ]
    }
   ]
  },
  {
   "source": [
    "* Accessing elements from tuple"
   ],
   "cell_type": "markdown",
   "metadata": {}
  },
  {
   "cell_type": "code",
   "execution_count": 4,
   "metadata": {},
   "outputs": [
    {
     "output_type": "stream",
     "name": "stdout",
     "text": [
      "1\n(1, 2)\n"
     ]
    }
   ],
   "source": [
    "print(t1[0])  #Accessing single values\n",
    "print(t1[0:2]) #Accessing multiple values"
   ]
  },
  {
   "source": [
    "* Updating tuple (We cant update tuple. Tuples are immutable)"
   ],
   "cell_type": "markdown",
   "metadata": {}
  },
  {
   "cell_type": "code",
   "execution_count": 7,
   "metadata": {},
   "outputs": [
    {
     "output_type": "error",
     "ename": "TypeError",
     "evalue": "'tuple' object does not support item assignment",
     "traceback": [
      "\u001b[1;31m---------------------------------------------------------------------------\u001b[0m",
      "\u001b[1;31mTypeError\u001b[0m                                 Traceback (most recent call last)",
      "\u001b[1;32m<ipython-input-7-e31acd7e2bad>\u001b[0m in \u001b[0;36m<module>\u001b[1;34m\u001b[0m\n\u001b[1;32m----> 1\u001b[1;33m \u001b[0mt1\u001b[0m\u001b[1;33m[\u001b[0m\u001b[1;36m0\u001b[0m\u001b[1;33m]\u001b[0m\u001b[1;33m=\u001b[0m\u001b[1;36m5\u001b[0m\u001b[1;33m\u001b[0m\u001b[0m\n\u001b[0m\u001b[0;32m      2\u001b[0m \u001b[0mprint\u001b[0m\u001b[1;33m(\u001b[0m\u001b[0mt1\u001b[0m\u001b[1;33m)\u001b[0m\u001b[1;33m\u001b[0m\u001b[0m\n",
      "\u001b[1;31mTypeError\u001b[0m: 'tuple' object does not support item assignment"
     ]
    }
   ],
   "source": [
    "t1[0]=5\n",
    "print(t1)"
   ]
  },
  {
   "source": [
    "* Deleting a tuple (Deleting single element is not possible we can delete entire tuple)"
   ],
   "cell_type": "markdown",
   "metadata": {}
  },
  {
   "cell_type": "code",
   "execution_count": 8,
   "metadata": {},
   "outputs": [
    {
     "output_type": "stream",
     "name": "stdout",
     "text": [
      "(1, 2, 3, 1, 3)\n"
     ]
    },
    {
     "output_type": "error",
     "ename": "NameError",
     "evalue": "name 't1' is not defined",
     "traceback": [
      "\u001b[1;31m---------------------------------------------------------------------------\u001b[0m",
      "\u001b[1;31mNameError\u001b[0m                                 Traceback (most recent call last)",
      "\u001b[1;32m<ipython-input-8-5ff0afdc577d>\u001b[0m in \u001b[0;36m<module>\u001b[1;34m\u001b[0m\n\u001b[0;32m      1\u001b[0m \u001b[0mprint\u001b[0m\u001b[1;33m(\u001b[0m\u001b[0mt1\u001b[0m\u001b[1;33m)\u001b[0m\u001b[1;33m\u001b[0m\u001b[0m\n\u001b[0;32m      2\u001b[0m \u001b[1;32mdel\u001b[0m \u001b[0mt1\u001b[0m\u001b[1;33m\u001b[0m\u001b[0m\n\u001b[1;32m----> 3\u001b[1;33m \u001b[0mprint\u001b[0m\u001b[1;33m(\u001b[0m\u001b[0mt1\u001b[0m\u001b[1;33m)\u001b[0m\u001b[1;33m\u001b[0m\u001b[0m\n\u001b[0m",
      "\u001b[1;31mNameError\u001b[0m: name 't1' is not defined"
     ]
    }
   ],
   "source": [
    "print(t1)\n",
    "del t1\n",
    "print(t1) # Should generate error"
   ]
  },
  {
   "source": [
    "* ## Basic operations on tuple"
   ],
   "cell_type": "markdown",
   "metadata": {}
  },
  {
   "cell_type": "code",
   "execution_count": 9,
   "metadata": {},
   "outputs": [],
   "source": [
    "t1=('Java','Python','JS','TypeScript')\n",
    "t2=('React','Angular','Django','Spring')"
   ]
  },
  {
   "source": [
    "1. len()               ..to calculate length"
   ],
   "cell_type": "markdown",
   "metadata": {}
  },
  {
   "cell_type": "code",
   "execution_count": 10,
   "metadata": {},
   "outputs": [
    {
     "output_type": "stream",
     "name": "stdout",
     "text": [
      "length of t1 = 4\n"
     ]
    }
   ],
   "source": [
    "print('length of t1 =',len(t1))"
   ]
  },
  {
   "source": [
    "2. Concatination"
   ],
   "cell_type": "markdown",
   "metadata": {}
  },
  {
   "cell_type": "code",
   "execution_count": 11,
   "metadata": {},
   "outputs": [
    {
     "output_type": "stream",
     "name": "stdout",
     "text": [
      "After concating t1 and t2 :  ('Java', 'Python', 'JS', 'TypeScript', 'React', 'Angular', 'Django', 'Spring')\n"
     ]
    }
   ],
   "source": [
    "print('After concating t1 and t2 : ',t1+t2)"
   ]
  },
  {
   "source": [
    "3. Repetation"
   ],
   "cell_type": "markdown",
   "metadata": {}
  },
  {
   "cell_type": "code",
   "execution_count": 12,
   "metadata": {},
   "outputs": [
    {
     "output_type": "stream",
     "name": "stdout",
     "text": [
      "Three times t1 :  ('Java', 'Python', 'JS', 'TypeScript', 'Java', 'Python', 'JS', 'TypeScript', 'Java', 'Python', 'JS', 'TypeScript')\n"
     ]
    }
   ],
   "source": [
    "print('Three times t1 : ',t1*3)"
   ]
  },
  {
   "source": [
    "4. Membership"
   ],
   "cell_type": "markdown",
   "metadata": {}
  },
  {
   "cell_type": "code",
   "execution_count": 13,
   "metadata": {},
   "outputs": [
    {
     "output_type": "stream",
     "name": "stdout",
     "text": [
      "Java exists in t1 : True\n"
     ]
    }
   ],
   "source": [
    "print('Java exists in t1 :','Java' in t1)"
   ]
  },
  {
   "cell_type": "code",
   "execution_count": 14,
   "metadata": {},
   "outputs": [
    {
     "output_type": "stream",
     "name": "stdout",
     "text": [
      "React exists in t1 : False\n"
     ]
    }
   ],
   "source": [
    "print('React exists in t1 :','React' in t1)"
   ]
  },
  {
   "source": [
    "5. Iterating"
   ],
   "cell_type": "markdown",
   "metadata": {}
  },
  {
   "cell_type": "code",
   "execution_count": 15,
   "metadata": {},
   "outputs": [
    {
     "output_type": "stream",
     "name": "stdout",
     "text": [
      "Java\tPython\tJS\tTypeScript\t"
     ]
    }
   ],
   "source": [
    "for i in t1:print(i,end='\\t')"
   ]
  },
  {
   "source": [
    "6. Indexing, Slicing and Matrixes"
   ],
   "cell_type": "markdown",
   "metadata": {}
  },
  {
   "cell_type": "code",
   "execution_count": 18,
   "metadata": {},
   "outputs": [
    {
     "output_type": "stream",
     "name": "stdout",
     "text": [
      "('Java', 'Python', 'JS', 'TypeScript', 'React', 'Angular', 'Django', 'Spring')\nTypeScript\nSpring\n('Python', 'JS', 'TypeScript', 'React', 'Angular', 'Django', 'Spring')\n('Python', 'JS', 'TypeScript', 'React', 'Angular')\n('JS', 'TypeScript', 'React', 'Angular', 'Django', 'Spring')\n('Java', 'Python', 'JS', 'TypeScript')\n('Java', 'Python', 'JS', 'TypeScript', 'React', 'Angular')\n"
     ]
    },
    {
     "output_type": "error",
     "ename": "IndexError",
     "evalue": "tuple index out of range",
     "traceback": [
      "\u001b[1;31m---------------------------------------------------------------------------\u001b[0m",
      "\u001b[1;31mIndexError\u001b[0m                                Traceback (most recent call last)",
      "\u001b[1;32m<ipython-input-18-dc7c2062aa9e>\u001b[0m in \u001b[0;36m<module>\u001b[1;34m\u001b[0m\n\u001b[0;32m      9\u001b[0m \u001b[0mprint\u001b[0m\u001b[1;33m(\u001b[0m\u001b[0mt3\u001b[0m\u001b[1;33m[\u001b[0m\u001b[1;33m:\u001b[0m\u001b[1;36m4\u001b[0m\u001b[1;33m]\u001b[0m\u001b[1;33m)\u001b[0m   \u001b[1;31m#display element in the tuple from 0 index upto the 4-1 index\u001b[0m\u001b[1;33m\u001b[0m\u001b[0m\n\u001b[0;32m     10\u001b[0m \u001b[0mprint\u001b[0m\u001b[1;33m(\u001b[0m\u001b[0mt3\u001b[0m\u001b[1;33m[\u001b[0m\u001b[1;33m:\u001b[0m\u001b[1;33m-\u001b[0m\u001b[1;36m2\u001b[0m\u001b[1;33m]\u001b[0m\u001b[1;33m)\u001b[0m\u001b[1;33m\u001b[0m\u001b[0m\n\u001b[1;32m---> 11\u001b[1;33m \u001b[0mprint\u001b[0m\u001b[1;33m(\u001b[0m\u001b[0mt3\u001b[0m\u001b[1;33m[\u001b[0m\u001b[1;36m8\u001b[0m\u001b[1;33m]\u001b[0m\u001b[1;33m)\u001b[0m \u001b[1;31m#Acceesing invalid index (Should generate error)\u001b[0m\u001b[1;33m\u001b[0m\u001b[0m\n\u001b[0m",
      "\u001b[1;31mIndexError\u001b[0m: tuple index out of range"
     ]
    }
   ],
   "source": [
    "#indexing, slicing and matrixes\n",
    "t3=t1+t2\n",
    "print(t3)\n",
    "print(t3[3])   #accesing 1 element using indexing \n",
    "print(t3[-1])  #Negative indexing\n",
    "print(t3[1:])  #display element in the tuple from 1 index upto the last element in the tuple\n",
    "print(t3[1:6])  #display element in the tuple from 1 index upto 6-1 that is 5 index\n",
    "print(t3[2:])   #display element in the tuple from 2 index upto the last element in the list\n",
    "print(t3[:4])   #display element in the tuple from 0 index upto the 4-1 index\n",
    "print(t3[:-2]) \n",
    "print(t3[8]) #Acceesing invalid index (Should generate error)"
   ]
  },
  {
   "source": [
    "7. max(), min()"
   ],
   "cell_type": "markdown",
   "metadata": {}
  },
  {
   "cell_type": "code",
   "execution_count": 19,
   "metadata": {},
   "outputs": [
    {
     "output_type": "stream",
     "name": "stdout",
     "text": [
      "Maximum from t3 44\nMinimum from t3 10\n"
     ]
    }
   ],
   "source": [
    "t3=(10,20,15,44,33)\n",
    "print('Maximum from t3',max(t3))\n",
    "print('Minimum from t3',min(t3))"
   ]
  },
  {
   "source": [
    "## Dictionary"
   ],
   "cell_type": "markdown",
   "metadata": {}
  },
  {
   "source": [
    "* Creating Dictionary"
   ],
   "cell_type": "markdown",
   "metadata": {}
  },
  {
   "source": [
    "d1={\"name\":'Meghanath',\"PRN\":\"20UCS304\",\"CGPA\":\"8.88\"}\n",
    "d2=dict() #Using constructor"
   ],
   "cell_type": "code",
   "metadata": {},
   "execution_count": 21,
   "outputs": []
  },
  {
   "source": [
    "* Accessing Values of dictonary"
   ],
   "cell_type": "markdown",
   "metadata": {}
  },
  {
   "cell_type": "code",
   "execution_count": 22,
   "metadata": {},
   "outputs": [
    {
     "output_type": "stream",
     "name": "stdout",
     "text": [
      "Name :  Meghanath\nPRN :  20UCS304\nCGPA :  8.88\n"
     ]
    }
   ],
   "source": [
    "print('Name : ',d1['name'])\n",
    "print('PRN : ',d1['PRN'])\n",
    "print('CGPA : ',d1['CGPA'])"
   ]
  },
  {
   "source": [
    "* Removing attributes "
   ],
   "cell_type": "markdown",
   "metadata": {}
  },
  {
   "cell_type": "code",
   "execution_count": 23,
   "metadata": {},
   "outputs": [
    {
     "output_type": "stream",
     "name": "stdout",
     "text": [
      "{'name': 'Meghanath', 'PRN': '20UCS304'}\n"
     ]
    }
   ],
   "source": [
    "del d1['CGPA']\n",
    "print(d1)"
   ]
  },
  {
   "source": [
    "* Clearing Dictionary"
   ],
   "cell_type": "markdown",
   "metadata": {}
  },
  {
   "cell_type": "code",
   "execution_count": 24,
   "metadata": {},
   "outputs": [
    {
     "output_type": "stream",
     "name": "stdout",
     "text": [
      "{}\n"
     ]
    }
   ],
   "source": [
    "d1.clear()\n",
    "print(d1)"
   ]
  },
  {
   "source": [
    "* Deleting dictionary"
   ],
   "cell_type": "markdown",
   "metadata": {}
  },
  {
   "cell_type": "code",
   "execution_count": 26,
   "metadata": {},
   "outputs": [
    {
     "output_type": "error",
     "ename": "NameError",
     "evalue": "name 'd1' is not defined",
     "traceback": [
      "\u001b[1;31m---------------------------------------------------------------------------\u001b[0m",
      "\u001b[1;31mNameError\u001b[0m                                 Traceback (most recent call last)",
      "\u001b[1;32m<ipython-input-26-b5c7f4fcce27>\u001b[0m in \u001b[0;36m<module>\u001b[1;34m\u001b[0m\n\u001b[1;32m----> 1\u001b[1;33m \u001b[1;32mdel\u001b[0m \u001b[0md1\u001b[0m\u001b[1;33m\u001b[0m\u001b[0m\n\u001b[0m\u001b[0;32m      2\u001b[0m \u001b[0mprint\u001b[0m\u001b[1;33m(\u001b[0m\u001b[0md1\u001b[0m\u001b[1;33m)\u001b[0m\u001b[1;33m\u001b[0m\u001b[0m\n",
      "\u001b[1;31mNameError\u001b[0m: name 'd1' is not defined"
     ]
    }
   ],
   "source": [
    "del d1\n",
    "print(d1)"
   ]
  },
  {
   "source": [
    "* Propertise of dictionary key"
   ],
   "cell_type": "markdown",
   "metadata": {}
  },
  {
   "cell_type": "code",
   "execution_count": 30,
   "metadata": {},
   "outputs": [
    {
     "output_type": "execute_result",
     "data": {
      "text/plain": [
       "{'Name': 'Meghanath', 'PRN': '20UCS304'}"
      ]
     },
     "metadata": {},
     "execution_count": 30
    }
   ],
   "source": [
    "# More than one value for a key accepts the last one\n",
    "d1={\"Name\":'MS','PRN':\"20UCS304\",\"Name\":\"Meghanath\"}\n",
    "d1"
   ]
  },
  {
   "cell_type": "code",
   "execution_count": 31,
   "metadata": {},
   "outputs": [
    {
     "output_type": "error",
     "ename": "TypeError",
     "evalue": "unhashable type: 'list'",
     "traceback": [
      "\u001b[1;31m---------------------------------------------------------------------------\u001b[0m",
      "\u001b[1;31mTypeError\u001b[0m                                 Traceback (most recent call last)",
      "\u001b[1;32m<ipython-input-31-16e1b5e9e3f7>\u001b[0m in \u001b[0;36m<module>\u001b[1;34m\u001b[0m\n\u001b[0;32m      1\u001b[0m \u001b[1;31m# Keys should be immutable\u001b[0m\u001b[1;33m\u001b[0m\u001b[1;33m\u001b[0m\u001b[0m\n\u001b[1;32m----> 2\u001b[1;33m \u001b[0md1\u001b[0m\u001b[1;33m=\u001b[0m\u001b[1;33m{\u001b[0m\u001b[1;33m[\u001b[0m\u001b[1;34m'Name'\u001b[0m\u001b[1;33m]\u001b[0m\u001b[1;33m:\u001b[0m\u001b[1;34m'Not Valid'\u001b[0m\u001b[1;33m}\u001b[0m\u001b[1;33m\u001b[0m\u001b[0m\n\u001b[0m",
      "\u001b[1;31mTypeError\u001b[0m: unhashable type: 'list'"
     ]
    }
   ],
   "source": [
    "# Keys should be immutable\n",
    "d1={['Name']:'Not Valid'}"
   ]
  },
  {
   "source": [
    "* Dictionary Built in methods"
   ],
   "cell_type": "markdown",
   "metadata": {}
  },
  {
   "cell_type": "code",
   "execution_count": 34,
   "metadata": {},
   "outputs": [
    {
     "output_type": "stream",
     "name": "stdout",
     "text": [
      "{'JavaScript': ['React', 'Angular', 'Next'], 'Java': ['Spring', 'Hibernate'], 'Python': ['Django', 'Flask']}\n{}\ndict_keys(['JavaScript', 'Java', 'Python'])\ndict_values([['React', 'Angular', 'Next'], ['Spring', 'Hibernate'], ['Django', 'Flask']])\n"
     ]
    }
   ],
   "source": [
    "d1={\"JavaScript\":[\"React\",\"Angular\",\"Next\"],\"Java\":[\"Spring\",\"Hibernate\"],\"Python\":[\"Django\",\"Flask\"]}\n",
    "d2=d1.copy()   #copy the content in the one dictionary to another\n",
    "print(d2) \n",
    "\n",
    "d2.clear()   #clear the all element in the dictionary\n",
    "print(d2)\n",
    "\n",
    "keys=d1.keys()   #return the key element in the dictionary\n",
    "print(keys)\n",
    "\n",
    "values=d1.values()  #return the value element in the dictionary\n",
    "print(values)"
   ]
  }
 ]
}